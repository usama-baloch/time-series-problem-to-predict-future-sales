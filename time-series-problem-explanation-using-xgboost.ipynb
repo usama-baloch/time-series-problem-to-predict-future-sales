{
 "cells": [
  {
   "cell_type": "markdown",
   "id": "2597faa2",
   "metadata": {
    "papermill": {
     "duration": 0.011186,
     "end_time": "2022-09-21T07:12:11.306465",
     "exception": false,
     "start_time": "2022-09-21T07:12:11.295279",
     "status": "completed"
    },
    "tags": []
   },
   "source": [
    "<div class=\"alert alert-block alert-success\">  \n",
    "<h1><center><strong>Time Series Problem ⏰</strong></center></h1>"
   ]
  },
  {
   "cell_type": "markdown",
   "id": "28ed3fee",
   "metadata": {
    "papermill": {
     "duration": 0.00975,
     "end_time": "2022-09-21T07:12:11.325968",
     "exception": false,
     "start_time": "2022-09-21T07:12:11.316218",
     "status": "completed"
    },
    "tags": []
   },
   "source": [
    "#### If this helped in your learning, then please **UPVOTE** – as they are the source of motivation!"
   ]
  },
  {
   "cell_type": "markdown",
   "id": "f6dc6f17",
   "metadata": {
    "papermill": {
     "duration": 0.009024,
     "end_time": "2022-09-21T07:12:11.344696",
     "exception": false,
     "start_time": "2022-09-21T07:12:11.335672",
     "status": "completed"
    },
    "tags": []
   },
   "source": [
    "#### **What are time series forecasting and analysis?**\n",
    "\n",
    "Time series forecasting is a set of methods in statistics and data science to predict some variables that develop and change over time. The underlying intention of time series forecasting is determining how target variables will change in the future by observing historical data from the time perspective, defining the patterns, and yielding short or long-term predictions on how change occurs – considering the captured patterns.\n",
    "\n",
    "\n",
    "Time series problems, on the other hand, are always time-dependent and we usually look at four main components: seasonality, trends, cycles, and irregular components.\n",
    "\n",
    "\n",
    "![](https://content.altexsoft.com/media/2017/07/medicine-sales-graph.png.webp)\n",
    "\n",
    "\n",
    "\n",
    "The graph above is a clear example of how trends and seasons work.\n",
    "\n",
    "Trends. The trend component describes how the variable – drug sales in this case – changes over long periods of time. We see that the sales revenues of antidiabetic drugs have substantially increased during the period from the 1990s to 2010s.\n",
    "\n",
    "Seasons. The seasonal component showcases each year’s wave-like changes in sales patterns. Sales were increasing and decreasing seasonally. Seasonal series can be tied to any time measurement, but these periods of time always have a fixed length and succession. We can consider monthly or quarterly patterns for sales in midsize or small eCommerce, or track micro-interactions across a day.\n",
    "\n",
    "Cycles. Cycles are long-term patterns that have a waveform and recurring nature similar to seasonal patterns but with variable length, they don’t have a fixed time period. For example, business cycles have recognizable elements of growth, recession, and recovery. But the cycles themselves stretch in time differently for a given country throughout its history.\n",
    "\n",
    "Irregularities. Irregular components appear due to unexpected events, like cataclysms, or are simply representative of noise in the data."
   ]
  },
  {
   "cell_type": "markdown",
   "id": "21d74680",
   "metadata": {
    "papermill": {
     "duration": 0.00975,
     "end_time": "2022-09-21T07:12:11.365504",
     "exception": false,
     "start_time": "2022-09-21T07:12:11.355754",
     "status": "completed"
    },
    "tags": []
   },
   "source": [
    "<div class=\"alert alert-info\">  \n",
    "<h3><strong>Import Libraries 📃</strong></h3>\n",
    "</div>"
   ]
  },
  {
   "cell_type": "code",
   "execution_count": 1,
   "id": "846f48bc",
   "metadata": {
    "execution": {
     "iopub.execute_input": "2022-09-21T07:12:11.390799Z",
     "iopub.status.busy": "2022-09-21T07:12:11.390097Z",
     "iopub.status.idle": "2022-09-21T07:12:12.726885Z",
     "shell.execute_reply": "2022-09-21T07:12:12.725708Z"
    },
    "papermill": {
     "duration": 1.353642,
     "end_time": "2022-09-21T07:12:12.729843",
     "exception": false,
     "start_time": "2022-09-21T07:12:11.376201",
     "status": "completed"
    },
    "tags": []
   },
   "outputs": [],
   "source": [
    "import matplotlib.pyplot as plt\n",
    "import pandas as pd\n",
    "import seaborn as sns\n",
    "from sklearn.model_selection import train_test_split\n",
    "from sklearn.preprocessing import LabelEncoder\n",
    "import xgboost as xgb\n",
    "import matplotlib.patches as patches\n",
    "# import pmdarima as pm\n",
    "# from pmdarima.arima import auto_arima"
   ]
  },
  {
   "cell_type": "code",
   "execution_count": 2,
   "id": "1d81152e",
   "metadata": {
    "execution": {
     "iopub.execute_input": "2022-09-21T07:12:12.751144Z",
     "iopub.status.busy": "2022-09-21T07:12:12.750438Z",
     "iopub.status.idle": "2022-09-21T07:12:15.577846Z",
     "shell.execute_reply": "2022-09-21T07:12:15.576850Z"
    },
    "papermill": {
     "duration": 2.840977,
     "end_time": "2022-09-21T07:12:15.580445",
     "exception": false,
     "start_time": "2022-09-21T07:12:12.739468",
     "status": "completed"
    },
    "tags": []
   },
   "outputs": [],
   "source": [
    "sales_train = pd.read_csv('../input/competitive-data-science-predict-future-sales/sales_train.csv')\n",
    "shops = pd.read_csv('../input/competitive-data-science-predict-future-sales/shops.csv')\n",
    "items = pd.read_csv('../input/competitive-data-science-predict-future-sales/items.csv')\n",
    "items_cat = pd.read_csv('../input/competitive-data-science-predict-future-sales/item_categories.csv')\n"
   ]
  },
  {
   "cell_type": "code",
   "execution_count": 3,
   "id": "d578a7a1",
   "metadata": {
    "execution": {
     "iopub.execute_input": "2022-09-21T07:12:15.602841Z",
     "iopub.status.busy": "2022-09-21T07:12:15.602393Z",
     "iopub.status.idle": "2022-09-21T07:12:15.625370Z",
     "shell.execute_reply": "2022-09-21T07:12:15.624128Z"
    },
    "papermill": {
     "duration": 0.036046,
     "end_time": "2022-09-21T07:12:15.627719",
     "exception": false,
     "start_time": "2022-09-21T07:12:15.591673",
     "status": "completed"
    },
    "tags": []
   },
   "outputs": [
    {
     "data": {
      "text/html": [
       "<div>\n",
       "<style scoped>\n",
       "    .dataframe tbody tr th:only-of-type {\n",
       "        vertical-align: middle;\n",
       "    }\n",
       "\n",
       "    .dataframe tbody tr th {\n",
       "        vertical-align: top;\n",
       "    }\n",
       "\n",
       "    .dataframe thead th {\n",
       "        text-align: right;\n",
       "    }\n",
       "</style>\n",
       "<table border=\"1\" class=\"dataframe\">\n",
       "  <thead>\n",
       "    <tr style=\"text-align: right;\">\n",
       "      <th></th>\n",
       "      <th>date</th>\n",
       "      <th>date_block_num</th>\n",
       "      <th>shop_id</th>\n",
       "      <th>item_id</th>\n",
       "      <th>item_price</th>\n",
       "      <th>item_cnt_day</th>\n",
       "    </tr>\n",
       "  </thead>\n",
       "  <tbody>\n",
       "    <tr>\n",
       "      <th>0</th>\n",
       "      <td>02.01.2013</td>\n",
       "      <td>0</td>\n",
       "      <td>59</td>\n",
       "      <td>22154</td>\n",
       "      <td>999.0</td>\n",
       "      <td>1.0</td>\n",
       "    </tr>\n",
       "    <tr>\n",
       "      <th>1</th>\n",
       "      <td>03.01.2013</td>\n",
       "      <td>0</td>\n",
       "      <td>25</td>\n",
       "      <td>2552</td>\n",
       "      <td>899.0</td>\n",
       "      <td>1.0</td>\n",
       "    </tr>\n",
       "  </tbody>\n",
       "</table>\n",
       "</div>"
      ],
      "text/plain": [
       "         date  date_block_num  shop_id  item_id  item_price  item_cnt_day\n",
       "0  02.01.2013               0       59    22154       999.0           1.0\n",
       "1  03.01.2013               0       25     2552       899.0           1.0"
      ]
     },
     "execution_count": 3,
     "metadata": {},
     "output_type": "execute_result"
    }
   ],
   "source": [
    "sales_train.head(2)"
   ]
  },
  {
   "cell_type": "code",
   "execution_count": 4,
   "id": "ac5c5e0f",
   "metadata": {
    "execution": {
     "iopub.execute_input": "2022-09-21T07:12:15.648707Z",
     "iopub.status.busy": "2022-09-21T07:12:15.648181Z",
     "iopub.status.idle": "2022-09-21T07:12:15.658337Z",
     "shell.execute_reply": "2022-09-21T07:12:15.657229Z"
    },
    "papermill": {
     "duration": 0.023329,
     "end_time": "2022-09-21T07:12:15.660624",
     "exception": false,
     "start_time": "2022-09-21T07:12:15.637295",
     "status": "completed"
    },
    "tags": []
   },
   "outputs": [
    {
     "data": {
      "text/html": [
       "<div>\n",
       "<style scoped>\n",
       "    .dataframe tbody tr th:only-of-type {\n",
       "        vertical-align: middle;\n",
       "    }\n",
       "\n",
       "    .dataframe tbody tr th {\n",
       "        vertical-align: top;\n",
       "    }\n",
       "\n",
       "    .dataframe thead th {\n",
       "        text-align: right;\n",
       "    }\n",
       "</style>\n",
       "<table border=\"1\" class=\"dataframe\">\n",
       "  <thead>\n",
       "    <tr style=\"text-align: right;\">\n",
       "      <th></th>\n",
       "      <th>item_name</th>\n",
       "      <th>item_id</th>\n",
       "      <th>item_category_id</th>\n",
       "    </tr>\n",
       "  </thead>\n",
       "  <tbody>\n",
       "    <tr>\n",
       "      <th>0</th>\n",
       "      <td>! ВО ВЛАСТИ НАВАЖДЕНИЯ (ПЛАСТ.)         D</td>\n",
       "      <td>0</td>\n",
       "      <td>40</td>\n",
       "    </tr>\n",
       "    <tr>\n",
       "      <th>1</th>\n",
       "      <td>!ABBYY FineReader 12 Professional Edition Full...</td>\n",
       "      <td>1</td>\n",
       "      <td>76</td>\n",
       "    </tr>\n",
       "  </tbody>\n",
       "</table>\n",
       "</div>"
      ],
      "text/plain": [
       "                                           item_name  item_id  \\\n",
       "0          ! ВО ВЛАСТИ НАВАЖДЕНИЯ (ПЛАСТ.)         D        0   \n",
       "1  !ABBYY FineReader 12 Professional Edition Full...        1   \n",
       "\n",
       "   item_category_id  \n",
       "0                40  \n",
       "1                76  "
      ]
     },
     "execution_count": 4,
     "metadata": {},
     "output_type": "execute_result"
    }
   ],
   "source": [
    "items.head(2)"
   ]
  },
  {
   "cell_type": "code",
   "execution_count": 5,
   "id": "19715865",
   "metadata": {
    "execution": {
     "iopub.execute_input": "2022-09-21T07:12:15.681899Z",
     "iopub.status.busy": "2022-09-21T07:12:15.681191Z",
     "iopub.status.idle": "2022-09-21T07:12:15.691584Z",
     "shell.execute_reply": "2022-09-21T07:12:15.690462Z"
    },
    "papermill": {
     "duration": 0.023542,
     "end_time": "2022-09-21T07:12:15.693896",
     "exception": false,
     "start_time": "2022-09-21T07:12:15.670354",
     "status": "completed"
    },
    "tags": []
   },
   "outputs": [
    {
     "data": {
      "text/html": [
       "<div>\n",
       "<style scoped>\n",
       "    .dataframe tbody tr th:only-of-type {\n",
       "        vertical-align: middle;\n",
       "    }\n",
       "\n",
       "    .dataframe tbody tr th {\n",
       "        vertical-align: top;\n",
       "    }\n",
       "\n",
       "    .dataframe thead th {\n",
       "        text-align: right;\n",
       "    }\n",
       "</style>\n",
       "<table border=\"1\" class=\"dataframe\">\n",
       "  <thead>\n",
       "    <tr style=\"text-align: right;\">\n",
       "      <th></th>\n",
       "      <th>item_category_name</th>\n",
       "      <th>item_category_id</th>\n",
       "    </tr>\n",
       "  </thead>\n",
       "  <tbody>\n",
       "    <tr>\n",
       "      <th>0</th>\n",
       "      <td>PC - Гарнитуры/Наушники</td>\n",
       "      <td>0</td>\n",
       "    </tr>\n",
       "    <tr>\n",
       "      <th>1</th>\n",
       "      <td>Аксессуары - PS2</td>\n",
       "      <td>1</td>\n",
       "    </tr>\n",
       "  </tbody>\n",
       "</table>\n",
       "</div>"
      ],
      "text/plain": [
       "        item_category_name  item_category_id\n",
       "0  PC - Гарнитуры/Наушники                 0\n",
       "1         Аксессуары - PS2                 1"
      ]
     },
     "execution_count": 5,
     "metadata": {},
     "output_type": "execute_result"
    }
   ],
   "source": [
    "items_cat.head(2)"
   ]
  },
  {
   "cell_type": "code",
   "execution_count": 6,
   "id": "36718e66",
   "metadata": {
    "execution": {
     "iopub.execute_input": "2022-09-21T07:12:15.715432Z",
     "iopub.status.busy": "2022-09-21T07:12:15.715033Z",
     "iopub.status.idle": "2022-09-21T07:12:15.725385Z",
     "shell.execute_reply": "2022-09-21T07:12:15.724300Z"
    },
    "papermill": {
     "duration": 0.023786,
     "end_time": "2022-09-21T07:12:15.727617",
     "exception": false,
     "start_time": "2022-09-21T07:12:15.703831",
     "status": "completed"
    },
    "tags": []
   },
   "outputs": [
    {
     "data": {
      "text/html": [
       "<div>\n",
       "<style scoped>\n",
       "    .dataframe tbody tr th:only-of-type {\n",
       "        vertical-align: middle;\n",
       "    }\n",
       "\n",
       "    .dataframe tbody tr th {\n",
       "        vertical-align: top;\n",
       "    }\n",
       "\n",
       "    .dataframe thead th {\n",
       "        text-align: right;\n",
       "    }\n",
       "</style>\n",
       "<table border=\"1\" class=\"dataframe\">\n",
       "  <thead>\n",
       "    <tr style=\"text-align: right;\">\n",
       "      <th></th>\n",
       "      <th>shop_name</th>\n",
       "      <th>shop_id</th>\n",
       "    </tr>\n",
       "  </thead>\n",
       "  <tbody>\n",
       "    <tr>\n",
       "      <th>0</th>\n",
       "      <td>!Якутск Орджоникидзе, 56 фран</td>\n",
       "      <td>0</td>\n",
       "    </tr>\n",
       "    <tr>\n",
       "      <th>1</th>\n",
       "      <td>!Якутск ТЦ \"Центральный\" фран</td>\n",
       "      <td>1</td>\n",
       "    </tr>\n",
       "  </tbody>\n",
       "</table>\n",
       "</div>"
      ],
      "text/plain": [
       "                       shop_name  shop_id\n",
       "0  !Якутск Орджоникидзе, 56 фран        0\n",
       "1  !Якутск ТЦ \"Центральный\" фран        1"
      ]
     },
     "execution_count": 6,
     "metadata": {},
     "output_type": "execute_result"
    }
   ],
   "source": [
    "shops.head(2)"
   ]
  },
  {
   "cell_type": "markdown",
   "id": "f56d8734",
   "metadata": {
    "papermill": {
     "duration": 0.009866,
     "end_time": "2022-09-21T07:12:15.747601",
     "exception": false,
     "start_time": "2022-09-21T07:12:15.737735",
     "status": "completed"
    },
    "tags": []
   },
   "source": [
    "**First Merge these Tables by using Join technique.**"
   ]
  },
  {
   "cell_type": "code",
   "execution_count": 7,
   "id": "33fd8020",
   "metadata": {
    "execution": {
     "iopub.execute_input": "2022-09-21T07:12:15.769600Z",
     "iopub.status.busy": "2022-09-21T07:12:15.768927Z",
     "iopub.status.idle": "2022-09-21T07:12:17.847287Z",
     "shell.execute_reply": "2022-09-21T07:12:17.846113Z"
    },
    "papermill": {
     "duration": 2.092397,
     "end_time": "2022-09-21T07:12:17.850020",
     "exception": false,
     "start_time": "2022-09-21T07:12:15.757623",
     "status": "completed"
    },
    "tags": []
   },
   "outputs": [],
   "source": [
    "item_merged = pd.merge(items,items_cat,how='inner')\n",
    "shop_merged = pd.merge(sales_train,shops,on='shop_id')\n",
    "train_data = pd.merge(item_merged,shop_merged,on='item_id')"
   ]
  },
  {
   "cell_type": "code",
   "execution_count": 8,
   "id": "97ac4228",
   "metadata": {
    "execution": {
     "iopub.execute_input": "2022-09-21T07:12:17.872221Z",
     "iopub.status.busy": "2022-09-21T07:12:17.871540Z",
     "iopub.status.idle": "2022-09-21T07:12:17.890767Z",
     "shell.execute_reply": "2022-09-21T07:12:17.889852Z"
    },
    "papermill": {
     "duration": 0.033097,
     "end_time": "2022-09-21T07:12:17.893279",
     "exception": false,
     "start_time": "2022-09-21T07:12:17.860182",
     "status": "completed"
    },
    "tags": []
   },
   "outputs": [
    {
     "data": {
      "text/html": [
       "<div>\n",
       "<style scoped>\n",
       "    .dataframe tbody tr th:only-of-type {\n",
       "        vertical-align: middle;\n",
       "    }\n",
       "\n",
       "    .dataframe tbody tr th {\n",
       "        vertical-align: top;\n",
       "    }\n",
       "\n",
       "    .dataframe thead th {\n",
       "        text-align: right;\n",
       "    }\n",
       "</style>\n",
       "<table border=\"1\" class=\"dataframe\">\n",
       "  <thead>\n",
       "    <tr style=\"text-align: right;\">\n",
       "      <th></th>\n",
       "      <th>item_name</th>\n",
       "      <th>item_id</th>\n",
       "      <th>item_category_id</th>\n",
       "      <th>item_category_name</th>\n",
       "      <th>date</th>\n",
       "      <th>date_block_num</th>\n",
       "      <th>shop_id</th>\n",
       "      <th>item_price</th>\n",
       "      <th>item_cnt_day</th>\n",
       "      <th>shop_name</th>\n",
       "    </tr>\n",
       "  </thead>\n",
       "  <tbody>\n",
       "    <tr>\n",
       "      <th>0</th>\n",
       "      <td>! ВО ВЛАСТИ НАВАЖДЕНИЯ (ПЛАСТ.)         D</td>\n",
       "      <td>0</td>\n",
       "      <td>40</td>\n",
       "      <td>Кино - DVD</td>\n",
       "      <td>01.09.2014</td>\n",
       "      <td>20</td>\n",
       "      <td>54</td>\n",
       "      <td>58.0</td>\n",
       "      <td>1.0</td>\n",
       "      <td>Химки ТЦ \"Мега\"</td>\n",
       "    </tr>\n",
       "    <tr>\n",
       "      <th>1</th>\n",
       "      <td>***В ЛУЧАХ СЛАВЫ   (UNV)                    D</td>\n",
       "      <td>2</td>\n",
       "      <td>40</td>\n",
       "      <td>Кино - DVD</td>\n",
       "      <td>24.08.2014</td>\n",
       "      <td>19</td>\n",
       "      <td>54</td>\n",
       "      <td>58.0</td>\n",
       "      <td>1.0</td>\n",
       "      <td>Химки ТЦ \"Мега\"</td>\n",
       "    </tr>\n",
       "    <tr>\n",
       "      <th>2</th>\n",
       "      <td>***В ЛУЧАХ СЛАВЫ   (UNV)                    D</td>\n",
       "      <td>2</td>\n",
       "      <td>40</td>\n",
       "      <td>Кино - DVD</td>\n",
       "      <td>12.11.2014</td>\n",
       "      <td>22</td>\n",
       "      <td>54</td>\n",
       "      <td>58.0</td>\n",
       "      <td>1.0</td>\n",
       "      <td>Химки ТЦ \"Мега\"</td>\n",
       "    </tr>\n",
       "    <tr>\n",
       "      <th>3</th>\n",
       "      <td>***ГОЛУБАЯ ВОЛНА  (Univ)                      D</td>\n",
       "      <td>3</td>\n",
       "      <td>40</td>\n",
       "      <td>Кино - DVD</td>\n",
       "      <td>05.07.2014</td>\n",
       "      <td>18</td>\n",
       "      <td>54</td>\n",
       "      <td>100.0</td>\n",
       "      <td>1.0</td>\n",
       "      <td>Химки ТЦ \"Мега\"</td>\n",
       "    </tr>\n",
       "    <tr>\n",
       "      <th>4</th>\n",
       "      <td>***ГОЛУБАЯ ВОЛНА  (Univ)                      D</td>\n",
       "      <td>3</td>\n",
       "      <td>40</td>\n",
       "      <td>Кино - DVD</td>\n",
       "      <td>26.08.2014</td>\n",
       "      <td>19</td>\n",
       "      <td>54</td>\n",
       "      <td>58.0</td>\n",
       "      <td>1.0</td>\n",
       "      <td>Химки ТЦ \"Мега\"</td>\n",
       "    </tr>\n",
       "  </tbody>\n",
       "</table>\n",
       "</div>"
      ],
      "text/plain": [
       "                                         item_name  item_id  item_category_id  \\\n",
       "0        ! ВО ВЛАСТИ НАВАЖДЕНИЯ (ПЛАСТ.)         D        0                40   \n",
       "1    ***В ЛУЧАХ СЛАВЫ   (UNV)                    D        2                40   \n",
       "2    ***В ЛУЧАХ СЛАВЫ   (UNV)                    D        2                40   \n",
       "3  ***ГОЛУБАЯ ВОЛНА  (Univ)                      D        3                40   \n",
       "4  ***ГОЛУБАЯ ВОЛНА  (Univ)                      D        3                40   \n",
       "\n",
       "  item_category_name        date  date_block_num  shop_id  item_price  \\\n",
       "0         Кино - DVD  01.09.2014              20       54        58.0   \n",
       "1         Кино - DVD  24.08.2014              19       54        58.0   \n",
       "2         Кино - DVD  12.11.2014              22       54        58.0   \n",
       "3         Кино - DVD  05.07.2014              18       54       100.0   \n",
       "4         Кино - DVD  26.08.2014              19       54        58.0   \n",
       "\n",
       "   item_cnt_day        shop_name  \n",
       "0           1.0  Химки ТЦ \"Мега\"  \n",
       "1           1.0  Химки ТЦ \"Мега\"  \n",
       "2           1.0  Химки ТЦ \"Мега\"  \n",
       "3           1.0  Химки ТЦ \"Мега\"  \n",
       "4           1.0  Химки ТЦ \"Мега\"  "
      ]
     },
     "execution_count": 8,
     "metadata": {},
     "output_type": "execute_result"
    }
   ],
   "source": [
    "train_data.head()"
   ]
  },
  {
   "cell_type": "markdown",
   "id": "a30c56a6",
   "metadata": {
    "papermill": {
     "duration": 0.010025,
     "end_time": "2022-09-21T07:12:17.913704",
     "exception": false,
     "start_time": "2022-09-21T07:12:17.903679",
     "status": "completed"
    },
    "tags": []
   },
   "source": [
    "# Remove Duplicated Rows"
   ]
  },
  {
   "cell_type": "code",
   "execution_count": 9,
   "id": "cde12d47",
   "metadata": {
    "execution": {
     "iopub.execute_input": "2022-09-21T07:12:17.936655Z",
     "iopub.status.busy": "2022-09-21T07:12:17.935542Z",
     "iopub.status.idle": "2022-09-21T07:12:21.348739Z",
     "shell.execute_reply": "2022-09-21T07:12:21.347741Z"
    },
    "papermill": {
     "duration": 3.427572,
     "end_time": "2022-09-21T07:12:21.351468",
     "exception": false,
     "start_time": "2022-09-21T07:12:17.923896",
     "status": "completed"
    },
    "tags": []
   },
   "outputs": [],
   "source": [
    "train_data.drop(train_data[train_data.duplicated()].index,axis=0,inplace=True)"
   ]
  },
  {
   "cell_type": "code",
   "execution_count": 10,
   "id": "3fb21dcf",
   "metadata": {
    "execution": {
     "iopub.execute_input": "2022-09-21T07:12:21.374621Z",
     "iopub.status.busy": "2022-09-21T07:12:21.374182Z",
     "iopub.status.idle": "2022-09-21T07:12:21.391305Z",
     "shell.execute_reply": "2022-09-21T07:12:21.389773Z"
    },
    "papermill": {
     "duration": 0.031352,
     "end_time": "2022-09-21T07:12:21.393818",
     "exception": false,
     "start_time": "2022-09-21T07:12:21.362466",
     "status": "completed"
    },
    "tags": []
   },
   "outputs": [
    {
     "name": "stdout",
     "output_type": "stream",
     "text": [
      "<class 'pandas.core.frame.DataFrame'>\n",
      "Int64Index: 2935843 entries, 0 to 2935848\n",
      "Data columns (total 10 columns):\n",
      " #   Column              Dtype  \n",
      "---  ------              -----  \n",
      " 0   item_name           object \n",
      " 1   item_id             int64  \n",
      " 2   item_category_id    int64  \n",
      " 3   item_category_name  object \n",
      " 4   date                object \n",
      " 5   date_block_num      int64  \n",
      " 6   shop_id             int64  \n",
      " 7   item_price          float64\n",
      " 8   item_cnt_day        float64\n",
      " 9   shop_name           object \n",
      "dtypes: float64(2), int64(4), object(4)\n",
      "memory usage: 246.4+ MB\n"
     ]
    }
   ],
   "source": [
    "train_data.info()"
   ]
  },
  {
   "cell_type": "markdown",
   "id": "6efe4b86",
   "metadata": {
    "papermill": {
     "duration": 0.010309,
     "end_time": "2022-09-21T07:12:21.414858",
     "exception": false,
     "start_time": "2022-09-21T07:12:21.404549",
     "status": "completed"
    },
    "tags": []
   },
   "source": [
    "There are only one Item which have the price of negative 1. it can be an outlier so we will remove it with most occurring value."
   ]
  },
  {
   "cell_type": "code",
   "execution_count": 11,
   "id": "96cea288",
   "metadata": {
    "execution": {
     "iopub.execute_input": "2022-09-21T07:12:21.437821Z",
     "iopub.status.busy": "2022-09-21T07:12:21.437393Z",
     "iopub.status.idle": "2022-09-21T07:12:21.456254Z",
     "shell.execute_reply": "2022-09-21T07:12:21.455229Z"
    },
    "papermill": {
     "duration": 0.033222,
     "end_time": "2022-09-21T07:12:21.458636",
     "exception": false,
     "start_time": "2022-09-21T07:12:21.425414",
     "status": "completed"
    },
    "tags": []
   },
   "outputs": [
    {
     "data": {
      "text/html": [
       "<div>\n",
       "<style scoped>\n",
       "    .dataframe tbody tr th:only-of-type {\n",
       "        vertical-align: middle;\n",
       "    }\n",
       "\n",
       "    .dataframe tbody tr th {\n",
       "        vertical-align: top;\n",
       "    }\n",
       "\n",
       "    .dataframe thead th {\n",
       "        text-align: right;\n",
       "    }\n",
       "</style>\n",
       "<table border=\"1\" class=\"dataframe\">\n",
       "  <thead>\n",
       "    <tr style=\"text-align: right;\">\n",
       "      <th></th>\n",
       "      <th>item_name</th>\n",
       "      <th>item_id</th>\n",
       "      <th>item_category_id</th>\n",
       "      <th>item_category_name</th>\n",
       "      <th>date</th>\n",
       "      <th>date_block_num</th>\n",
       "      <th>shop_id</th>\n",
       "      <th>item_price</th>\n",
       "      <th>item_cnt_day</th>\n",
       "      <th>shop_name</th>\n",
       "    </tr>\n",
       "  </thead>\n",
       "  <tbody>\n",
       "    <tr>\n",
       "      <th>954789</th>\n",
       "      <td>DmC Devil May Cry [PS3, русские субтитры]</td>\n",
       "      <td>2973</td>\n",
       "      <td>19</td>\n",
       "      <td>Игры - PS3</td>\n",
       "      <td>15.05.2013</td>\n",
       "      <td>4</td>\n",
       "      <td>32</td>\n",
       "      <td>-1.0</td>\n",
       "      <td>1.0</td>\n",
       "      <td>Москва ТЦ \"Серебряный Дом\"</td>\n",
       "    </tr>\n",
       "  </tbody>\n",
       "</table>\n",
       "</div>"
      ],
      "text/plain": [
       "                                        item_name  item_id  item_category_id  \\\n",
       "954789  DmC Devil May Cry [PS3, русские субтитры]     2973                19   \n",
       "\n",
       "       item_category_name        date  date_block_num  shop_id  item_price  \\\n",
       "954789         Игры - PS3  15.05.2013               4       32        -1.0   \n",
       "\n",
       "        item_cnt_day                   shop_name  \n",
       "954789           1.0  Москва ТЦ \"Серебряный Дом\"  "
      ]
     },
     "execution_count": 11,
     "metadata": {},
     "output_type": "execute_result"
    }
   ],
   "source": [
    "train_data[train_data.item_price < 0]"
   ]
  },
  {
   "cell_type": "code",
   "execution_count": 12,
   "id": "1c86a44b",
   "metadata": {
    "execution": {
     "iopub.execute_input": "2022-09-21T07:12:21.482488Z",
     "iopub.status.busy": "2022-09-21T07:12:21.481590Z",
     "iopub.status.idle": "2022-09-21T07:12:21.590096Z",
     "shell.execute_reply": "2022-09-21T07:12:21.588902Z"
    },
    "papermill": {
     "duration": 0.123372,
     "end_time": "2022-09-21T07:12:21.592747",
     "exception": false,
     "start_time": "2022-09-21T07:12:21.469375",
     "status": "completed"
    },
    "tags": []
   },
   "outputs": [],
   "source": [
    "train_data.loc[954789,'item_price'] = train_data['item_price'].mode()[0]"
   ]
  },
  {
   "cell_type": "markdown",
   "id": "b57ea3ae",
   "metadata": {
    "papermill": {
     "duration": 0.010461,
     "end_time": "2022-09-21T07:12:21.614153",
     "exception": false,
     "start_time": "2022-09-21T07:12:21.603692",
     "status": "completed"
    },
    "tags": []
   },
   "source": [
    "**Groupby function use to group the data with the packet of date_block_num,shop_id,item_id and count the item_cnt_day to find out item count in month**"
   ]
  },
  {
   "cell_type": "code",
   "execution_count": 13,
   "id": "9b79263b",
   "metadata": {
    "execution": {
     "iopub.execute_input": "2022-09-21T07:12:21.638617Z",
     "iopub.status.busy": "2022-09-21T07:12:21.637733Z",
     "iopub.status.idle": "2022-09-21T07:12:24.571221Z",
     "shell.execute_reply": "2022-09-21T07:12:24.570105Z"
    },
    "papermill": {
     "duration": 2.948596,
     "end_time": "2022-09-21T07:12:24.573917",
     "exception": false,
     "start_time": "2022-09-21T07:12:21.625321",
     "status": "completed"
    },
    "tags": []
   },
   "outputs": [],
   "source": [
    "temp_data = train_data.groupby(['date_block_num','shop_name','item_name','item_category_name']).agg({'item_cnt_day' : 'count'})\n",
    "temp_data.reset_index(inplace=True)\n",
    "temp_data = temp_data.set_index('date_block_num')"
   ]
  },
  {
   "cell_type": "code",
   "execution_count": 14,
   "id": "bbd83f46",
   "metadata": {
    "execution": {
     "iopub.execute_input": "2022-09-21T07:12:24.597127Z",
     "iopub.status.busy": "2022-09-21T07:12:24.596298Z",
     "iopub.status.idle": "2022-09-21T07:12:24.608336Z",
     "shell.execute_reply": "2022-09-21T07:12:24.607219Z"
    },
    "papermill": {
     "duration": 0.026273,
     "end_time": "2022-09-21T07:12:24.610752",
     "exception": false,
     "start_time": "2022-09-21T07:12:24.584479",
     "status": "completed"
    },
    "tags": []
   },
   "outputs": [
    {
     "data": {
      "text/html": [
       "<div>\n",
       "<style scoped>\n",
       "    .dataframe tbody tr th:only-of-type {\n",
       "        vertical-align: middle;\n",
       "    }\n",
       "\n",
       "    .dataframe tbody tr th {\n",
       "        vertical-align: top;\n",
       "    }\n",
       "\n",
       "    .dataframe thead th {\n",
       "        text-align: right;\n",
       "    }\n",
       "</style>\n",
       "<table border=\"1\" class=\"dataframe\">\n",
       "  <thead>\n",
       "    <tr style=\"text-align: right;\">\n",
       "      <th></th>\n",
       "      <th>shop_name</th>\n",
       "      <th>item_name</th>\n",
       "      <th>item_category_name</th>\n",
       "      <th>item_cnt_day</th>\n",
       "    </tr>\n",
       "    <tr>\n",
       "      <th>date_block_num</th>\n",
       "      <th></th>\n",
       "      <th></th>\n",
       "      <th></th>\n",
       "      <th></th>\n",
       "    </tr>\n",
       "  </thead>\n",
       "  <tbody>\n",
       "    <tr>\n",
       "      <th>0</th>\n",
       "      <td>!Якутск Орджоникидзе, 56 фран</td>\n",
       "      <td>1+1</td>\n",
       "      <td>Кино - DVD</td>\n",
       "      <td>4</td>\n",
       "    </tr>\n",
       "    <tr>\n",
       "      <th>0</th>\n",
       "      <td>!Якутск Орджоникидзе, 56 фран</td>\n",
       "      <td>1+1 (BD)</td>\n",
       "      <td>Кино - Blu-Ray</td>\n",
       "      <td>3</td>\n",
       "    </tr>\n",
       "  </tbody>\n",
       "</table>\n",
       "</div>"
      ],
      "text/plain": [
       "                                    shop_name item_name item_category_name  \\\n",
       "date_block_num                                                               \n",
       "0               !Якутск Орджоникидзе, 56 фран       1+1         Кино - DVD   \n",
       "0               !Якутск Орджоникидзе, 56 фран  1+1 (BD)     Кино - Blu-Ray   \n",
       "\n",
       "                item_cnt_day  \n",
       "date_block_num                \n",
       "0                          4  \n",
       "0                          3  "
      ]
     },
     "execution_count": 14,
     "metadata": {},
     "output_type": "execute_result"
    }
   ],
   "source": [
    "temp_data.head(2)"
   ]
  },
  {
   "cell_type": "markdown",
   "id": "d8e801a6",
   "metadata": {
    "papermill": {
     "duration": 0.010926,
     "end_time": "2022-09-21T07:12:24.632528",
     "exception": false,
     "start_time": "2022-09-21T07:12:24.621602",
     "status": "completed"
    },
    "tags": []
   },
   "source": [
    "**Checking Which item sold the most**"
   ]
  },
  {
   "cell_type": "code",
   "execution_count": 15,
   "id": "53fc86db",
   "metadata": {
    "execution": {
     "iopub.execute_input": "2022-09-21T07:12:24.655693Z",
     "iopub.status.busy": "2022-09-21T07:12:24.655276Z",
     "iopub.status.idle": "2022-09-21T07:12:25.493599Z",
     "shell.execute_reply": "2022-09-21T07:12:25.492343Z"
    },
    "papermill": {
     "duration": 0.853171,
     "end_time": "2022-09-21T07:12:25.496381",
     "exception": false,
     "start_time": "2022-09-21T07:12:24.643210",
     "status": "completed"
    },
    "tags": []
   },
   "outputs": [
    {
     "data": {
      "text/plain": [
       "<AxesSubplot:title={'center':'Shops for most item Count'}, xlabel='shop_name'>"
      ]
     },
     "execution_count": 15,
     "metadata": {},
     "output_type": "execute_result"
    },
    {
     "data": {
      "image/png": "[encoded data removed]",
      "text/plain": [
       "<Figure size 1152x720 with 1 Axes>"
      ]
     },
     "metadata": {
      "needs_background": "light"
     },
     "output_type": "display_data"
    }
   ],
   "source": [
    "plt.figure(figsize=(16,10))\n",
    "plt.title('Shops for most item Count',weight='bold',fontsize=15)\n",
    "temp_data.groupby('shop_name')['item_cnt_day'].sum().sort_values(ascending=False)[0:20].plot(kind='line',marker='*',color=\"#2D51A5\")\n",
    "temp_data.groupby('shop_name')['item_cnt_day'].sum().sort_values(ascending=False)[0:20].plot(kind='bar',color=\"#5EAFD9\")"
   ]
  },
  {
   "cell_type": "markdown",
   "id": "a7e96fce",
   "metadata": {
    "papermill": {
     "duration": 0.011838,
     "end_time": "2022-09-21T07:12:25.520551",
     "exception": false,
     "start_time": "2022-09-21T07:12:25.508713",
     "status": "completed"
    },
    "tags": []
   },
   "source": [
    "**Checking which shop sold the items most**"
   ]
  },
  {
   "cell_type": "code",
   "execution_count": 16,
   "id": "33a76608",
   "metadata": {
    "execution": {
     "iopub.execute_input": "2022-09-21T07:12:25.546393Z",
     "iopub.status.busy": "2022-09-21T07:12:25.545998Z",
     "iopub.status.idle": "2022-09-21T07:12:26.712346Z",
     "shell.execute_reply": "2022-09-21T07:12:26.711480Z"
    },
    "papermill": {
     "duration": 1.182858,
     "end_time": "2022-09-21T07:12:26.715594",
     "exception": false,
     "start_time": "2022-09-21T07:12:25.532736",
     "status": "completed"
    },
    "tags": []
   },
   "outputs": [
    {
     "data": {
      "text/plain": [
       "Text(3.6, 24000, 'Most Sold Item')"
      ]
     },
     "execution_count": 16,
     "metadata": {},
     "output_type": "execute_result"
    },
    {
     "data": {
      "image/png": "[encoded data removed]",
      "text/plain": [
       "<Figure size 1152x432 with 1 Axes>"
      ]
     },
     "metadata": {
      "needs_background": "light"
     },
     "output_type": "display_data"
    }
   ],
   "source": [
    "plt.figure(figsize=(16,6))\n",
    "\n",
    "temp_data.groupby('item_name')['item_cnt_day'].sum().sort_values(ascending=False)[0:20].plot(kind='line',marker='*',color='#d95f0e')\n",
    "temp_data.groupby('item_name')['item_cnt_day'].sum().sort_values(ascending=False)[0:20].plot(kind='bar',color='#2c7fb8')\n",
    "\n",
    "arrow_data = 'Simple,tail_width=2,head_width=14,head_length=16'\n",
    "kw = dict(arrowstyle=arrow_data,color='#c51b8a')\n",
    "arr = patches.FancyArrowPatch((4.5,23000),(1.0,20000),connectionstyle='arc3,rad=.10',**kw)\n",
    "plt.gca().add_patch(arr)\n",
    "plt.text(x=3.6,y=24000,s=\"Most Sold Item\",color='black',size=17)"
   ]
  },
  {
   "cell_type": "markdown",
   "id": "26759575",
   "metadata": {
    "papermill": {
     "duration": 0.013561,
     "end_time": "2022-09-21T07:12:26.743908",
     "exception": false,
     "start_time": "2022-09-21T07:12:26.730347",
     "status": "completed"
    },
    "tags": []
   },
   "source": [
    "**Our Month Column is in form of Str. so first convert it into datetime form**"
   ]
  },
  {
   "cell_type": "code",
   "execution_count": 17,
   "id": "f928a6b7",
   "metadata": {
    "execution": {
     "iopub.execute_input": "2022-09-21T07:12:26.774080Z",
     "iopub.status.busy": "2022-09-21T07:12:26.773010Z",
     "iopub.status.idle": "2022-09-21T07:12:42.060813Z",
     "shell.execute_reply": "2022-09-21T07:12:42.059701Z"
    },
    "papermill": {
     "duration": 15.305435,
     "end_time": "2022-09-21T07:12:42.063325",
     "exception": false,
     "start_time": "2022-09-21T07:12:26.757890",
     "status": "completed"
    },
    "tags": []
   },
   "outputs": [],
   "source": [
    "train_data['date'] = pd.to_datetime(train_data['date'],format='%d.%m.%Y')\n",
    "train_data['Month'] = train_data['date'].dt.to_period('M')\n",
    "train_data['Month'] = train_data['Month'].astype(str)"
   ]
  },
  {
   "cell_type": "markdown",
   "id": "a54ffe09",
   "metadata": {
    "papermill": {
     "duration": 0.013747,
     "end_time": "2022-09-21T07:12:42.091764",
     "exception": false,
     "start_time": "2022-09-21T07:12:42.078017",
     "status": "completed"
    },
    "tags": []
   },
   "source": [
    "**Now we have all the Months+year column named Month, now applying groupby to count the item_cnt_day for whole month**"
   ]
  },
  {
   "cell_type": "code",
   "execution_count": 18,
   "id": "9626a0e5",
   "metadata": {
    "execution": {
     "iopub.execute_input": "2022-09-21T07:12:42.121408Z",
     "iopub.status.busy": "2022-09-21T07:12:42.121026Z",
     "iopub.status.idle": "2022-09-21T07:12:43.444428Z",
     "shell.execute_reply": "2022-09-21T07:12:43.443254Z"
    },
    "papermill": {
     "duration": 1.341291,
     "end_time": "2022-09-21T07:12:43.447155",
     "exception": false,
     "start_time": "2022-09-21T07:12:42.105864",
     "status": "completed"
    },
    "tags": []
   },
   "outputs": [],
   "source": [
    "temp_data = train_data.groupby(['shop_id','item_id','Month']).agg({'item_cnt_day' : 'sum'})\n",
    "temp_data.reset_index(inplace=True)\n",
    "temp_data = temp_data.set_index('Month')"
   ]
  },
  {
   "cell_type": "code",
   "execution_count": 19,
   "id": "04d731d2",
   "metadata": {
    "execution": {
     "iopub.execute_input": "2022-09-21T07:12:43.478013Z",
     "iopub.status.busy": "2022-09-21T07:12:43.477110Z",
     "iopub.status.idle": "2022-09-21T07:12:43.489732Z",
     "shell.execute_reply": "2022-09-21T07:12:43.488607Z"
    },
    "papermill": {
     "duration": 0.030726,
     "end_time": "2022-09-21T07:12:43.492345",
     "exception": false,
     "start_time": "2022-09-21T07:12:43.461619",
     "status": "completed"
    },
    "tags": []
   },
   "outputs": [
    {
     "data": {
      "text/html": [
       "<div>\n",
       "<style scoped>\n",
       "    .dataframe tbody tr th:only-of-type {\n",
       "        vertical-align: middle;\n",
       "    }\n",
       "\n",
       "    .dataframe tbody tr th {\n",
       "        vertical-align: top;\n",
       "    }\n",
       "\n",
       "    .dataframe thead th {\n",
       "        text-align: right;\n",
       "    }\n",
       "</style>\n",
       "<table border=\"1\" class=\"dataframe\">\n",
       "  <thead>\n",
       "    <tr style=\"text-align: right;\">\n",
       "      <th></th>\n",
       "      <th>shop_id</th>\n",
       "      <th>item_id</th>\n",
       "      <th>item_cnt_month</th>\n",
       "    </tr>\n",
       "    <tr>\n",
       "      <th>Month</th>\n",
       "      <th></th>\n",
       "      <th></th>\n",
       "      <th></th>\n",
       "    </tr>\n",
       "  </thead>\n",
       "  <tbody>\n",
       "    <tr>\n",
       "      <th>2013-02</th>\n",
       "      <td>0</td>\n",
       "      <td>30</td>\n",
       "      <td>31.0</td>\n",
       "    </tr>\n",
       "    <tr>\n",
       "      <th>2013-02</th>\n",
       "      <td>0</td>\n",
       "      <td>31</td>\n",
       "      <td>11.0</td>\n",
       "    </tr>\n",
       "    <tr>\n",
       "      <th>2013-01</th>\n",
       "      <td>0</td>\n",
       "      <td>32</td>\n",
       "      <td>6.0</td>\n",
       "    </tr>\n",
       "    <tr>\n",
       "      <th>2013-02</th>\n",
       "      <td>0</td>\n",
       "      <td>32</td>\n",
       "      <td>10.0</td>\n",
       "    </tr>\n",
       "    <tr>\n",
       "      <th>2013-01</th>\n",
       "      <td>0</td>\n",
       "      <td>33</td>\n",
       "      <td>3.0</td>\n",
       "    </tr>\n",
       "  </tbody>\n",
       "</table>\n",
       "</div>"
      ],
      "text/plain": [
       "         shop_id  item_id  item_cnt_month\n",
       "Month                                    \n",
       "2013-02        0       30            31.0\n",
       "2013-02        0       31            11.0\n",
       "2013-01        0       32             6.0\n",
       "2013-02        0       32            10.0\n",
       "2013-01        0       33             3.0"
      ]
     },
     "execution_count": 19,
     "metadata": {},
     "output_type": "execute_result"
    }
   ],
   "source": [
    "temp_data.rename(columns = {'item_cnt_day' : 'item_cnt_month'},inplace=True)\n",
    "temp_data.head()"
   ]
  },
  {
   "cell_type": "markdown",
   "id": "3fdae06e",
   "metadata": {
    "papermill": {
     "duration": 0.014094,
     "end_time": "2022-09-21T07:12:43.521169",
     "exception": false,
     "start_time": "2022-09-21T07:12:43.507075",
     "status": "completed"
    },
    "tags": []
   },
   "source": [
    "**Checking which Month with year selling the Most**"
   ]
  },
  {
   "cell_type": "code",
   "execution_count": 20,
   "id": "8ff2fe11",
   "metadata": {
    "execution": {
     "iopub.execute_input": "2022-09-21T07:12:43.551910Z",
     "iopub.status.busy": "2022-09-21T07:12:43.551518Z",
     "iopub.status.idle": "2022-09-21T07:12:43.985898Z",
     "shell.execute_reply": "2022-09-21T07:12:43.984813Z"
    },
    "papermill": {
     "duration": 0.452948,
     "end_time": "2022-09-21T07:12:43.988515",
     "exception": false,
     "start_time": "2022-09-21T07:12:43.535567",
     "status": "completed"
    },
    "tags": []
   },
   "outputs": [
    {
     "data": {
      "text/plain": [
       "<AxesSubplot:xlabel='Month'>"
      ]
     },
     "execution_count": 20,
     "metadata": {},
     "output_type": "execute_result"
    },
    {
     "data": {
      "image/png": "[encoded data removed]",
      "text/plain": [
       "<Figure size 1296x720 with 1 Axes>"
      ]
     },
     "metadata": {
      "needs_background": "light"
     },
     "output_type": "display_data"
    }
   ],
   "source": [
    "plt.figure(figsize=(18,10))\n",
    "temp_data.groupby('Month')['item_cnt_month'].sum().sort_values(ascending=False)[:20].plot(kind='bar',color='#2b8cbe')"
   ]
  },
  {
   "cell_type": "code",
   "execution_count": 21,
   "id": "77701417",
   "metadata": {
    "execution": {
     "iopub.execute_input": "2022-09-21T07:12:44.020603Z",
     "iopub.status.busy": "2022-09-21T07:12:44.020174Z",
     "iopub.status.idle": "2022-09-21T07:12:44.393719Z",
     "shell.execute_reply": "2022-09-21T07:12:44.392474Z"
    },
    "papermill": {
     "duration": 0.392761,
     "end_time": "2022-09-21T07:12:44.396472",
     "exception": false,
     "start_time": "2022-09-21T07:12:44.003711",
     "status": "completed"
    },
    "tags": []
   },
   "outputs": [
    {
     "data": {
      "text/plain": [
       "<AxesSubplot:xlabel='Month'>"
      ]
     },
     "execution_count": 21,
     "metadata": {},
     "output_type": "execute_result"
    },
    {
     "data": {
      "image/png": "[encoded data removed]",
      "text/plain": [
       "<Figure size 1296x720 with 1 Axes>"
      ]
     },
     "metadata": {
      "needs_background": "light"
     },
     "output_type": "display_data"
    }
   ],
   "source": [
    "plt.figure(figsize=(18,10))\n",
    "temp_data.groupby('Month')['item_cnt_month'].sum().plot(legend=True,color='forestgreen')"
   ]
  },
  {
   "cell_type": "markdown",
   "id": "d1338eba",
   "metadata": {
    "papermill": {
     "duration": 0.015619,
     "end_time": "2022-09-21T07:12:44.428367",
     "exception": false,
     "start_time": "2022-09-21T07:12:44.412748",
     "status": "completed"
    },
    "tags": []
   },
   "source": [
    "**So we determine that Last Months like November, December with different years have most selling**"
   ]
  },
  {
   "cell_type": "code",
   "execution_count": 22,
   "id": "c53db43a",
   "metadata": {
    "execution": {
     "iopub.execute_input": "2022-09-21T07:12:44.461926Z",
     "iopub.status.busy": "2022-09-21T07:12:44.461147Z",
     "iopub.status.idle": "2022-09-21T07:12:44.481253Z",
     "shell.execute_reply": "2022-09-21T07:12:44.480304Z"
    },
    "papermill": {
     "duration": 0.03925,
     "end_time": "2022-09-21T07:12:44.483513",
     "exception": false,
     "start_time": "2022-09-21T07:12:44.444263",
     "status": "completed"
    },
    "tags": []
   },
   "outputs": [
    {
     "data": {
      "text/html": [
       "<div>\n",
       "<style scoped>\n",
       "    .dataframe tbody tr th:only-of-type {\n",
       "        vertical-align: middle;\n",
       "    }\n",
       "\n",
       "    .dataframe tbody tr th {\n",
       "        vertical-align: top;\n",
       "    }\n",
       "\n",
       "    .dataframe thead th {\n",
       "        text-align: right;\n",
       "    }\n",
       "</style>\n",
       "<table border=\"1\" class=\"dataframe\">\n",
       "  <thead>\n",
       "    <tr style=\"text-align: right;\">\n",
       "      <th></th>\n",
       "      <th>Month</th>\n",
       "      <th>shop_id</th>\n",
       "      <th>item_id</th>\n",
       "      <th>item_cnt_month</th>\n",
       "    </tr>\n",
       "  </thead>\n",
       "  <tbody>\n",
       "    <tr>\n",
       "      <th>1609119</th>\n",
       "      <td>2015-04</td>\n",
       "      <td>59</td>\n",
       "      <td>22164</td>\n",
       "      <td>2.0</td>\n",
       "    </tr>\n",
       "    <tr>\n",
       "      <th>1609120</th>\n",
       "      <td>2015-07</td>\n",
       "      <td>59</td>\n",
       "      <td>22164</td>\n",
       "      <td>1.0</td>\n",
       "    </tr>\n",
       "    <tr>\n",
       "      <th>1609121</th>\n",
       "      <td>2013-10</td>\n",
       "      <td>59</td>\n",
       "      <td>22167</td>\n",
       "      <td>1.0</td>\n",
       "    </tr>\n",
       "    <tr>\n",
       "      <th>1609122</th>\n",
       "      <td>2013-12</td>\n",
       "      <td>59</td>\n",
       "      <td>22167</td>\n",
       "      <td>2.0</td>\n",
       "    </tr>\n",
       "    <tr>\n",
       "      <th>1609123</th>\n",
       "      <td>2014-06</td>\n",
       "      <td>59</td>\n",
       "      <td>22167</td>\n",
       "      <td>1.0</td>\n",
       "    </tr>\n",
       "  </tbody>\n",
       "</table>\n",
       "</div>"
      ],
      "text/plain": [
       "           Month  shop_id  item_id  item_cnt_month\n",
       "1609119  2015-04       59    22164             2.0\n",
       "1609120  2015-07       59    22164             1.0\n",
       "1609121  2013-10       59    22167             1.0\n",
       "1609122  2013-12       59    22167             2.0\n",
       "1609123  2014-06       59    22167             1.0"
      ]
     },
     "execution_count": 22,
     "metadata": {},
     "output_type": "execute_result"
    }
   ],
   "source": [
    "temp_data.reset_index(inplace=True)\n",
    "temp_data.tail(5)"
   ]
  },
  {
   "cell_type": "code",
   "execution_count": 23,
   "id": "3d165862",
   "metadata": {
    "execution": {
     "iopub.execute_input": "2022-09-21T07:12:44.517233Z",
     "iopub.status.busy": "2022-09-21T07:12:44.516569Z",
     "iopub.status.idle": "2022-09-21T07:12:44.936496Z",
     "shell.execute_reply": "2022-09-21T07:12:44.935635Z"
    },
    "papermill": {
     "duration": 0.439316,
     "end_time": "2022-09-21T07:12:44.938693",
     "exception": false,
     "start_time": "2022-09-21T07:12:44.499377",
     "status": "completed"
    },
    "tags": []
   },
   "outputs": [
    {
     "data": {
      "text/html": [
       "<div>\n",
       "<style scoped>\n",
       "    .dataframe tbody tr th:only-of-type {\n",
       "        vertical-align: middle;\n",
       "    }\n",
       "\n",
       "    .dataframe tbody tr th {\n",
       "        vertical-align: top;\n",
       "    }\n",
       "\n",
       "    .dataframe thead th {\n",
       "        text-align: right;\n",
       "    }\n",
       "</style>\n",
       "<table border=\"1\" class=\"dataframe\">\n",
       "  <thead>\n",
       "    <tr style=\"text-align: right;\">\n",
       "      <th></th>\n",
       "      <th>Month</th>\n",
       "      <th>shop_id</th>\n",
       "      <th>item_id</th>\n",
       "    </tr>\n",
       "  </thead>\n",
       "  <tbody>\n",
       "    <tr>\n",
       "      <th>0</th>\n",
       "      <td>1</td>\n",
       "      <td>0</td>\n",
       "      <td>30</td>\n",
       "    </tr>\n",
       "    <tr>\n",
       "      <th>1</th>\n",
       "      <td>1</td>\n",
       "      <td>0</td>\n",
       "      <td>31</td>\n",
       "    </tr>\n",
       "    <tr>\n",
       "      <th>2</th>\n",
       "      <td>0</td>\n",
       "      <td>0</td>\n",
       "      <td>32</td>\n",
       "    </tr>\n",
       "    <tr>\n",
       "      <th>3</th>\n",
       "      <td>1</td>\n",
       "      <td>0</td>\n",
       "      <td>32</td>\n",
       "    </tr>\n",
       "    <tr>\n",
       "      <th>4</th>\n",
       "      <td>0</td>\n",
       "      <td>0</td>\n",
       "      <td>33</td>\n",
       "    </tr>\n",
       "    <tr>\n",
       "      <th>...</th>\n",
       "      <td>...</td>\n",
       "      <td>...</td>\n",
       "      <td>...</td>\n",
       "    </tr>\n",
       "    <tr>\n",
       "      <th>1609119</th>\n",
       "      <td>27</td>\n",
       "      <td>59</td>\n",
       "      <td>22164</td>\n",
       "    </tr>\n",
       "    <tr>\n",
       "      <th>1609120</th>\n",
       "      <td>30</td>\n",
       "      <td>59</td>\n",
       "      <td>22164</td>\n",
       "    </tr>\n",
       "    <tr>\n",
       "      <th>1609121</th>\n",
       "      <td>9</td>\n",
       "      <td>59</td>\n",
       "      <td>22167</td>\n",
       "    </tr>\n",
       "    <tr>\n",
       "      <th>1609122</th>\n",
       "      <td>11</td>\n",
       "      <td>59</td>\n",
       "      <td>22167</td>\n",
       "    </tr>\n",
       "    <tr>\n",
       "      <th>1609123</th>\n",
       "      <td>17</td>\n",
       "      <td>59</td>\n",
       "      <td>22167</td>\n",
       "    </tr>\n",
       "  </tbody>\n",
       "</table>\n",
       "<p>1609124 rows × 3 columns</p>\n",
       "</div>"
      ],
      "text/plain": [
       "         Month  shop_id  item_id\n",
       "0            1        0       30\n",
       "1            1        0       31\n",
       "2            0        0       32\n",
       "3            1        0       32\n",
       "4            0        0       33\n",
       "...        ...      ...      ...\n",
       "1609119     27       59    22164\n",
       "1609120     30       59    22164\n",
       "1609121      9       59    22167\n",
       "1609122     11       59    22167\n",
       "1609123     17       59    22167\n",
       "\n",
       "[1609124 rows x 3 columns]"
      ]
     },
     "execution_count": 23,
     "metadata": {},
     "output_type": "execute_result"
    }
   ],
   "source": [
    "X = temp_data.iloc[:,:-1]\n",
    "y = temp_data.iloc[:,-1:]\n",
    "le = LabelEncoder()\n",
    "X['Month']= le.fit_transform(X['Month'])\n",
    "X"
   ]
  },
  {
   "cell_type": "code",
   "execution_count": 24,
   "id": "e3c05d33",
   "metadata": {
    "execution": {
     "iopub.execute_input": "2022-09-21T07:12:44.973651Z",
     "iopub.status.busy": "2022-09-21T07:12:44.973000Z",
     "iopub.status.idle": "2022-09-21T07:12:45.243802Z",
     "shell.execute_reply": "2022-09-21T07:12:45.242647Z"
    },
    "papermill": {
     "duration": 0.290788,
     "end_time": "2022-09-21T07:12:45.246177",
     "exception": false,
     "start_time": "2022-09-21T07:12:44.955389",
     "status": "completed"
    },
    "tags": []
   },
   "outputs": [
    {
     "data": {
      "text/html": [
       "<div>\n",
       "<style scoped>\n",
       "    .dataframe tbody tr th:only-of-type {\n",
       "        vertical-align: middle;\n",
       "    }\n",
       "\n",
       "    .dataframe tbody tr th {\n",
       "        vertical-align: top;\n",
       "    }\n",
       "\n",
       "    .dataframe thead th {\n",
       "        text-align: right;\n",
       "    }\n",
       "</style>\n",
       "<table border=\"1\" class=\"dataframe\">\n",
       "  <thead>\n",
       "    <tr style=\"text-align: right;\">\n",
       "      <th></th>\n",
       "      <th>Month</th>\n",
       "      <th>shop_id</th>\n",
       "      <th>item_id</th>\n",
       "    </tr>\n",
       "  </thead>\n",
       "  <tbody>\n",
       "    <tr>\n",
       "      <th>212066</th>\n",
       "      <td>2</td>\n",
       "      <td>13</td>\n",
       "      <td>8635</td>\n",
       "    </tr>\n",
       "    <tr>\n",
       "      <th>671328</th>\n",
       "      <td>11</td>\n",
       "      <td>28</td>\n",
       "      <td>6112</td>\n",
       "    </tr>\n",
       "    <tr>\n",
       "      <th>1469969</th>\n",
       "      <td>27</td>\n",
       "      <td>56</td>\n",
       "      <td>14308</td>\n",
       "    </tr>\n",
       "    <tr>\n",
       "      <th>1542939</th>\n",
       "      <td>23</td>\n",
       "      <td>57</td>\n",
       "      <td>20734</td>\n",
       "    </tr>\n",
       "    <tr>\n",
       "      <th>1141202</th>\n",
       "      <td>25</td>\n",
       "      <td>45</td>\n",
       "      <td>21922</td>\n",
       "    </tr>\n",
       "  </tbody>\n",
       "</table>\n",
       "</div>"
      ],
      "text/plain": [
       "         Month  shop_id  item_id\n",
       "212066       2       13     8635\n",
       "671328      11       28     6112\n",
       "1469969     27       56    14308\n",
       "1542939     23       57    20734\n",
       "1141202     25       45    21922"
      ]
     },
     "execution_count": 24,
     "metadata": {},
     "output_type": "execute_result"
    }
   ],
   "source": [
    "x_train,x_test,y_train,y_test = train_test_split(X,y,test_size=0.3)\n",
    "x_train.head()"
   ]
  },
  {
   "cell_type": "markdown",
   "id": "353aee29",
   "metadata": {
    "papermill": {
     "duration": 0.016261,
     "end_time": "2022-09-21T07:12:45.279043",
     "exception": false,
     "start_time": "2022-09-21T07:12:45.262782",
     "status": "completed"
    },
    "tags": []
   },
   "source": [
    "**Using XGBRegressor with different hyperparameter tuning**"
   ]
  },
  {
   "cell_type": "code",
   "execution_count": 25,
   "id": "a782e53e",
   "metadata": {
    "execution": {
     "iopub.execute_input": "2022-09-21T07:12:45.314218Z",
     "iopub.status.busy": "2022-09-21T07:12:45.313781Z",
     "iopub.status.idle": "2022-09-21T07:15:37.902284Z",
     "shell.execute_reply": "2022-09-21T07:15:37.901056Z"
    },
    "papermill": {
     "duration": 172.625539,
     "end_time": "2022-09-21T07:15:37.921109",
     "exception": false,
     "start_time": "2022-09-21T07:12:45.295570",
     "status": "completed"
    },
    "tags": []
   },
   "outputs": [
    {
     "data": {
      "text/plain": [
       "0.6070369565892766"
      ]
     },
     "execution_count": 25,
     "metadata": {},
     "output_type": "execute_result"
    }
   ],
   "source": [
    "xg = xgb.XGBRegressor(base_score=0.5,\n",
    "                      n_estimators=400,\n",
    "                      min_child_weight=1,\n",
    "                     max_depth=7,\n",
    "                     learning_rate=0.1,\n",
    "                     booster='gbtree',\n",
    "                     tree_method='exact',\n",
    "                     reg_alpha=0,\n",
    "                     subsample=0.5,\n",
    "                     validate_parameters=1,\n",
    "                     colsample_bylevel=1,\n",
    "                     colsample_bynode=1,\n",
    "                     colsample_bytree=1,\n",
    "                     gamma=0)\n",
    "xg.fit(x_train,y_train)\n",
    "xg.score(x_test,y_test)"
   ]
  },
  {
   "cell_type": "code",
   "execution_count": 26,
   "id": "cd43118c",
   "metadata": {
    "execution": {
     "iopub.execute_input": "2022-09-21T07:15:37.956063Z",
     "iopub.status.busy": "2022-09-21T07:15:37.955391Z",
     "iopub.status.idle": "2022-09-21T07:15:38.051995Z",
     "shell.execute_reply": "2022-09-21T07:15:38.050818Z"
    },
    "papermill": {
     "duration": 0.116934,
     "end_time": "2022-09-21T07:15:38.054496",
     "exception": false,
     "start_time": "2022-09-21T07:15:37.937562",
     "status": "completed"
    },
    "tags": []
   },
   "outputs": [],
   "source": [
    "test = pd.read_csv('../input/competitive-data-science-predict-future-sales/test.csv')\n",
    "test.set_index('ID',inplace=True)\n",
    "test['Month'] = 34"
   ]
  },
  {
   "cell_type": "code",
   "execution_count": 27,
   "id": "98a1cf6b",
   "metadata": {
    "execution": {
     "iopub.execute_input": "2022-09-21T07:15:38.089835Z",
     "iopub.status.busy": "2022-09-21T07:15:38.088955Z",
     "iopub.status.idle": "2022-09-21T07:15:39.065799Z",
     "shell.execute_reply": "2022-09-21T07:15:39.064834Z"
    },
    "papermill": {
     "duration": 0.997323,
     "end_time": "2022-09-21T07:15:39.068514",
     "exception": false,
     "start_time": "2022-09-21T07:15:38.071191",
     "status": "completed"
    },
    "tags": []
   },
   "outputs": [],
   "source": [
    "pred = xg.predict(test)\n",
    "test['item_cnt_month'] = (pred[0]*len(test))/len(test)"
   ]
  },
  {
   "cell_type": "code",
   "execution_count": 28,
   "id": "6a4c8e79",
   "metadata": {
    "execution": {
     "iopub.execute_input": "2022-09-21T07:15:39.106081Z",
     "iopub.status.busy": "2022-09-21T07:15:39.105103Z",
     "iopub.status.idle": "2022-09-21T07:15:39.187773Z",
     "shell.execute_reply": "2022-09-21T07:15:39.186793Z"
    },
    "papermill": {
     "duration": 0.105,
     "end_time": "2022-09-21T07:15:39.190530",
     "exception": false,
     "start_time": "2022-09-21T07:15:39.085530",
     "status": "completed"
    },
    "tags": []
   },
   "outputs": [],
   "source": [
    "sub = pd.read_csv('../input/competitive-data-science-predict-future-sales/sample_submission.csv')\n",
    "test.reset_index(inplace=True)\n",
    "sub = test.drop(['shop_id','item_id','Month'],axis=1)"
   ]
  },
  {
   "cell_type": "code",
   "execution_count": 29,
   "id": "1121caa5",
   "metadata": {
    "execution": {
     "iopub.execute_input": "2022-09-21T07:15:39.226200Z",
     "iopub.status.busy": "2022-09-21T07:15:39.225063Z",
     "iopub.status.idle": "2022-09-21T07:15:39.760668Z",
     "shell.execute_reply": "2022-09-21T07:15:39.759471Z"
    },
    "papermill": {
     "duration": 0.555774,
     "end_time": "2022-09-21T07:15:39.763005",
     "exception": false,
     "start_time": "2022-09-21T07:15:39.207231",
     "status": "completed"
    },
    "tags": []
   },
   "outputs": [
    {
     "data": {
      "text/html": [
       "<div>\n",
       "<style scoped>\n",
       "    .dataframe tbody tr th:only-of-type {\n",
       "        vertical-align: middle;\n",
       "    }\n",
       "\n",
       "    .dataframe tbody tr th {\n",
       "        vertical-align: top;\n",
       "    }\n",
       "\n",
       "    .dataframe thead th {\n",
       "        text-align: right;\n",
       "    }\n",
       "</style>\n",
       "<table border=\"1\" class=\"dataframe\">\n",
       "  <thead>\n",
       "    <tr style=\"text-align: right;\">\n",
       "      <th></th>\n",
       "      <th>ID</th>\n",
       "      <th>item_cnt_month</th>\n",
       "    </tr>\n",
       "  </thead>\n",
       "  <tbody>\n",
       "    <tr>\n",
       "      <th>0</th>\n",
       "      <td>0</td>\n",
       "      <td>0.898744</td>\n",
       "    </tr>\n",
       "    <tr>\n",
       "      <th>1</th>\n",
       "      <td>1</td>\n",
       "      <td>0.898744</td>\n",
       "    </tr>\n",
       "    <tr>\n",
       "      <th>2</th>\n",
       "      <td>2</td>\n",
       "      <td>0.898744</td>\n",
       "    </tr>\n",
       "    <tr>\n",
       "      <th>3</th>\n",
       "      <td>3</td>\n",
       "      <td>0.898744</td>\n",
       "    </tr>\n",
       "    <tr>\n",
       "      <th>4</th>\n",
       "      <td>4</td>\n",
       "      <td>0.898744</td>\n",
       "    </tr>\n",
       "  </tbody>\n",
       "</table>\n",
       "</div>"
      ],
      "text/plain": [
       "   ID  item_cnt_month\n",
       "0   0        0.898744\n",
       "1   1        0.898744\n",
       "2   2        0.898744\n",
       "3   3        0.898744\n",
       "4   4        0.898744"
      ]
     },
     "execution_count": 29,
     "metadata": {},
     "output_type": "execute_result"
    }
   ],
   "source": [
    "sub.to_csv('submission.csv',index=False)\n",
    "subb = pd.read_csv('./submission.csv')\n",
    "subb.head()"
   ]
  }
 ],
 "metadata": {
  "kernelspec": {
   "display_name": "Python 3",
   "language": "python",
   "name": "python3"
  },
  "language_info": {
   "codemirror_mode": {
    "name": "ipython",
    "version": 3
   },
   "file_extension": ".py",
   "mimetype": "text/x-python",
   "name": "python",
   "nbconvert_exporter": "python",
   "pygments_lexer": "ipython3",
   "version": "3.7.12"
  },
  "papermill": {
   "default_parameters": {},
   "duration": 218.258275,
   "end_time": "2022-09-21T07:15:40.703187",
   "environment_variables": {},
   "exception": null,
   "input_path": "__notebook__.ipynb",
   "output_path": "__notebook__.ipynb",
   "parameters": {},
   "start_time": "2022-09-21T07:12:02.444912",
   "version": "2.3.4"
  }
 },
 "nbformat": 4,
 "nbformat_minor": 5
}
